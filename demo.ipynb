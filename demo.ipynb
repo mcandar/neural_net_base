{
 "cells": [
  {
   "cell_type": "markdown",
   "metadata": {},
   "source": [
    "# Neural Networks Using Only Numpy"
   ]
  },
  {
   "cell_type": "code",
   "execution_count": 1,
   "metadata": {},
   "outputs": [],
   "source": [
    "%load_ext autoreload\n",
    "%autoreload 2\n",
    "%matplotlib inline"
   ]
  },
  {
   "cell_type": "code",
   "execution_count": 2,
   "metadata": {},
   "outputs": [],
   "source": [
    "import matplotlib.pyplot as plt\n",
    "import numpy as np\n",
    "\n",
    "from neuralnet.neuralnet import NeuralNet\n",
    "from neuralnet.optimizers import GradientDescent\n",
    "from neuralnet.activations import Sigmoid\n",
    "from neuralnet.initializers import standard_gaussian\n",
    "from neuralnet.losses import MSE\n",
    "from neuralnet.utils import split"
   ]
  },
  {
   "cell_type": "code",
   "execution_count": 3,
   "metadata": {},
   "outputs": [
    {
     "name": "stdout",
     "output_type": "stream",
     "text": [
      "(150, 4) (150, 3)\n"
     ]
    }
   ],
   "source": [
    "# read data and prepare\n",
    "encode = {'setosa':[1,0,0],'versicolor':[0,1,0],'virginica':[0,0,1]}\n",
    "with open('iris.csv','r',newline='\\n') as f:\n",
    "    data = f.readlines()\n",
    "columns = data[0]\n",
    "del data[0]\n",
    "\n",
    "data = np.array([x.split(',') for x in data])\n",
    "X = data[:,:4].astype(float)\n",
    "y = np.array([encode[x.replace('\\n','')] for x in data[:,4]])\n",
    "print(X.shape,y.shape)"
   ]
  },
  {
   "cell_type": "code",
   "execution_count": 4,
   "metadata": {},
   "outputs": [],
   "source": [
    "# shuffle\n",
    "idx = np.arange(X.shape[0])\n",
    "np.random.seed(123)\n",
    "np.random.shuffle(idx)\n",
    "X,y = X[idx], y[idx]"
   ]
  },
  {
   "cell_type": "code",
   "execution_count": 5,
   "metadata": {},
   "outputs": [],
   "source": [
    "# split for training, validation, and test\n",
    "ratios = [0.7,0.15,0.15]\n",
    "X_train, X_valid, X_test = split(X,ratios)\n",
    "y_train, y_valid, y_test = split(y,ratios)"
   ]
  },
  {
   "cell_type": "code",
   "execution_count": 6,
   "metadata": {},
   "outputs": [],
   "source": [
    "# create optimizer and neural network object\n",
    "opt = GradientDescent(loss=MSE(),\n",
    "                      activation=Sigmoid(),\n",
    "                      learning_rate=0.05)\n",
    "\n",
    "nn = NeuralNet(hidden=[5],\n",
    "               initializer=standard_gaussian,\n",
    "               optimizer=opt)"
   ]
  },
  {
   "cell_type": "code",
   "execution_count": 7,
   "metadata": {},
   "outputs": [
    {
     "data": {
      "text/plain": [
       "<neuralnet.neuralnet.NeuralNet at 0x10f706668>"
      ]
     },
     "execution_count": 7,
     "metadata": {},
     "output_type": "execute_result"
    }
   ],
   "source": [
    "# train and update paramaters given data\n",
    "nn.train(X,y,epoch=500,batch_size=4,val_X=X_valid,val_y=y_valid,seed=123)"
   ]
  },
  {
   "cell_type": "code",
   "execution_count": 8,
   "metadata": {},
   "outputs": [
    {
     "data": {
      "image/png": "[encoded data removed]",
      "text/plain": [
       "<Figure size 432x288 with 1 Axes>"
      ]
     },
     "metadata": {},
     "output_type": "display_data"
    }
   ],
   "source": [
    "plt.plot(nn.training_error,label='Training')\n",
    "plt.plot(nn.validation_error,label='Validation')\n",
    "plt.title('Loss Values')\n",
    "plt.xlabel('Epoch')\n",
    "plt.ylabel('MSE')\n",
    "plt.legend()\n",
    "plt.show()"
   ]
  },
  {
   "cell_type": "code",
   "execution_count": 9,
   "metadata": {},
   "outputs": [
    {
     "data": {
      "text/plain": [
       "array([ True,  True,  True,  True,  True,  True,  True,  True,  True,\n",
       "        True,  True,  True,  True,  True,  True,  True,  True, False,\n",
       "        True,  True,  True,  True,  True])"
      ]
     },
     "execution_count": 9,
     "metadata": {},
     "output_type": "execute_result"
    }
   ],
   "source": [
    "# get which predictions are true in test set\n",
    "proba = nn.predict(X_test)\n",
    "label = proba.round().astype(int)\n",
    "correct = np.all(label == y_test,axis=1)\n",
    "correct"
   ]
  },
  {
   "cell_type": "code",
   "execution_count": 10,
   "metadata": {},
   "outputs": [
    {
     "data": {
      "text/plain": [
       "0.9565217391304348"
      ]
     },
     "execution_count": 10,
     "metadata": {},
     "output_type": "execute_result"
    }
   ],
   "source": [
    "# percentage accuracy\n",
    "np.sum(np.sum(correct))/y_test.shape[0]"
   ]
  },
  {
   "cell_type": "code",
   "execution_count": null,
   "metadata": {},
   "outputs": [],
   "source": []
  }
 ],
 "metadata": {
  "kernelspec": {
   "display_name": "Python 3",
   "language": "python",
   "name": "python3"
  },
  "language_info": {
   "codemirror_mode": {
    "name": "ipython",
    "version": 3
   },
   "file_extension": ".py",
   "mimetype": "text/x-python",
   "name": "python",
   "nbconvert_exporter": "python",
   "pygments_lexer": "ipython3",
   "version": "3.6.8"
  }
 },
 "nbformat": 4,
 "nbformat_minor": 2
}
